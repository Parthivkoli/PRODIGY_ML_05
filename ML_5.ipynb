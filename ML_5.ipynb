{
  "cells": [
    {
      "cell_type": "markdown",
      "metadata": {},
      "source": [
        "## Task 5\n",
        "Develop a model that can accurately recognize food items from images and estimate their calorie content, enabling users to track their dietary intake and make informed food choices"
      ]
    },
    {
      "cell_type": "code",
      "execution_count": null,
      "metadata": {
        "_cell_guid": "b1076dfc-b9ad-4769-8c92-a6c4dae69d19",
        "_uuid": "8f2839f25d086af736a60e9eeb907d3b93b6e0e5",
        "execution": {
          "iopub.execute_input": "2024-05-23T06:15:11.597077Z",
          "iopub.status.busy": "2024-05-23T06:15:11.596803Z",
          "iopub.status.idle": "2024-05-23T06:15:11.621982Z",
          "shell.execute_reply": "2024-05-23T06:15:11.621266Z",
          "shell.execute_reply.started": "2024-05-23T06:15:11.596997Z"
        },
        "id": "aMgEDJ_grvF_",
        "trusted": true
      },
      "outputs": [],
      "source": [
        "import numpy as np\n",
        "import pandas as pd"
      ]
    },
    {
      "cell_type": "code",
      "execution_count": null,
      "metadata": {
        "execution": {
          "iopub.execute_input": "2024-05-23T06:15:11.623467Z",
          "iopub.status.busy": "2024-05-23T06:15:11.623238Z",
          "iopub.status.idle": "2024-05-23T06:15:11.630348Z",
          "shell.execute_reply": "2024-05-23T06:15:11.62952Z",
          "shell.execute_reply.started": "2024-05-23T06:15:11.623436Z"
        },
        "id": "T7hJrFRDrvGA",
        "outputId": "2f620e20-9766-4aa8-f92b-b3f03c493ce1",
        "trusted": true
      },
      "outputs": [
        {
          "name": "stdout",
          "output_type": "stream",
          "text": [
            "/kaggle/input/food-101\n"
          ]
        }
      ],
      "source": [
        "%cd /kaggle/input/food-101/"
      ]
    },
    {
      "cell_type": "code",
      "execution_count": null,
      "metadata": {
        "execution": {
          "iopub.execute_input": "2024-05-23T06:15:11.631605Z",
          "iopub.status.busy": "2024-05-23T06:15:11.631413Z",
          "iopub.status.idle": "2024-05-23T06:15:12.623979Z",
          "shell.execute_reply": "2024-05-23T06:15:12.623091Z",
          "shell.execute_reply.started": "2024-05-23T06:15:11.63158Z"
        },
        "id": "Da8jT8o7rvGF",
        "outputId": "203c9ae1-0339-44fb-93d1-54d2e527c528",
        "trusted": true
      },
      "outputs": [
        {
          "name": "stdout",
          "output_type": "stream",
          "text": [
            "apple_pie/1005649\n",
            "apple_pie/1014775\n",
            "apple_pie/1026328\n",
            "apple_pie/1028787\n",
            "apple_pie/1043283\n",
            "apple_pie/1050519\n",
            "apple_pie/1057749\n",
            "apple_pie/1057810\n",
            "apple_pie/1072416\n",
            "apple_pie/1074856\n"
          ]
        }
      ],
      "source": [
        "!head 'food-101/food-101/meta/train.txt'"
      ]
    },
    {
      "cell_type": "code",
      "execution_count": null,
      "metadata": {
        "execution": {
          "iopub.execute_input": "2024-05-23T06:15:12.626839Z",
          "iopub.status.busy": "2024-05-23T06:15:12.626529Z",
          "iopub.status.idle": "2024-05-23T06:15:12.715971Z",
          "shell.execute_reply": "2024-05-23T06:15:12.715228Z",
          "shell.execute_reply.started": "2024-05-23T06:15:12.6268Z"
        },
        "id": "njTLdOoJrvGG",
        "outputId": "3acf7e77-516d-42f9-82db-f5fc8efd3d22",
        "trusted": true
      },
      "outputs": [
        {
          "data": {
            "text/html": [
              "<div>\n",
              "<style scoped>\n",
              "    .dataframe tbody tr th:only-of-type {\n",
              "        vertical-align: middle;\n",
              "    }\n",
              "\n",
              "    .dataframe tbody tr th {\n",
              "        vertical-align: top;\n",
              "    }\n",
              "\n",
              "    .dataframe thead th {\n",
              "        text-align: right;\n",
              "    }\n",
              "</style>\n",
              "<table border=\"1\" class=\"dataframe\">\n",
              "  <thead>\n",
              "    <tr style=\"text-align: right;\">\n",
              "      <th></th>\n",
              "      <th>path</th>\n",
              "    </tr>\n",
              "  </thead>\n",
              "  <tbody>\n",
              "    <tr>\n",
              "      <th>0</th>\n",
              "      <td>apple_pie/1005649</td>\n",
              "    </tr>\n",
              "    <tr>\n",
              "      <th>1</th>\n",
              "      <td>apple_pie/1014775</td>\n",
              "    </tr>\n",
              "    <tr>\n",
              "      <th>2</th>\n",
              "      <td>apple_pie/1026328</td>\n",
              "    </tr>\n",
              "    <tr>\n",
              "      <th>3</th>\n",
              "      <td>apple_pie/1028787</td>\n",
              "    </tr>\n",
              "    <tr>\n",
              "      <th>4</th>\n",
              "      <td>apple_pie/1043283</td>\n",
              "    </tr>\n",
              "  </tbody>\n",
              "</table>\n",
              "</div>"
            ],
            "text/plain": [
              "                path\n",
              "0  apple_pie/1005649\n",
              "1  apple_pie/1014775\n",
              "2  apple_pie/1026328\n",
              "3  apple_pie/1028787\n",
              "4  apple_pie/1043283"
            ]
          },
          "execution_count": 4,
          "metadata": {},
          "output_type": "execute_result"
        }
      ],
      "source": [
        "train_df = pd.read_csv('food-101/food-101/meta/train.txt', header = None, names=['path'])\n",
        "train_df.head()"
      ]
    },
    {
      "cell_type": "code",
      "execution_count": null,
      "metadata": {
        "execution": {
          "iopub.execute_input": "2024-05-23T06:15:12.717607Z",
          "iopub.status.busy": "2024-05-23T06:15:12.717314Z",
          "iopub.status.idle": "2024-05-23T06:15:12.723515Z",
          "shell.execute_reply": "2024-05-23T06:15:12.722761Z",
          "shell.execute_reply.started": "2024-05-23T06:15:12.71757Z"
        },
        "id": "X3bTR9VCrvGH",
        "outputId": "3ef0f3c4-2bca-40ff-e978-0ff10a3e7fc9",
        "trusted": true
      },
      "outputs": [
        {
          "data": {
            "text/plain": [
              "75750"
            ]
          },
          "execution_count": 5,
          "metadata": {},
          "output_type": "execute_result"
        }
      ],
      "source": [
        "len(train_df)"
      ]
    },
    {
      "cell_type": "code",
      "execution_count": null,
      "metadata": {
        "execution": {
          "iopub.execute_input": "2024-05-23T06:15:12.72519Z",
          "iopub.status.busy": "2024-05-23T06:15:12.724668Z",
          "iopub.status.idle": "2024-05-23T06:15:12.763028Z",
          "shell.execute_reply": "2024-05-23T06:15:12.762373Z",
          "shell.execute_reply.started": "2024-05-23T06:15:12.72515Z"
        },
        "id": "6UsemLCorvGJ",
        "outputId": "ca14df23-dcd3-4642-ae44-162a2215ee89",
        "trusted": true
      },
      "outputs": [
        {
          "data": {
            "text/html": [
              "<div>\n",
              "<style scoped>\n",
              "    .dataframe tbody tr th:only-of-type {\n",
              "        vertical-align: middle;\n",
              "    }\n",
              "\n",
              "    .dataframe tbody tr th {\n",
              "        vertical-align: top;\n",
              "    }\n",
              "\n",
              "    .dataframe thead th {\n",
              "        text-align: right;\n",
              "    }\n",
              "</style>\n",
              "<table border=\"1\" class=\"dataframe\">\n",
              "  <thead>\n",
              "    <tr style=\"text-align: right;\">\n",
              "      <th></th>\n",
              "      <th>path</th>\n",
              "    </tr>\n",
              "  </thead>\n",
              "  <tbody>\n",
              "    <tr>\n",
              "      <th>0</th>\n",
              "      <td>apple_pie/1011328</td>\n",
              "    </tr>\n",
              "    <tr>\n",
              "      <th>1</th>\n",
              "      <td>apple_pie/101251</td>\n",
              "    </tr>\n",
              "    <tr>\n",
              "      <th>2</th>\n",
              "      <td>apple_pie/1034399</td>\n",
              "    </tr>\n",
              "    <tr>\n",
              "      <th>3</th>\n",
              "      <td>apple_pie/103801</td>\n",
              "    </tr>\n",
              "    <tr>\n",
              "      <th>4</th>\n",
              "      <td>apple_pie/1038694</td>\n",
              "    </tr>\n",
              "  </tbody>\n",
              "</table>\n",
              "</div>"
            ],
            "text/plain": [
              "                path\n",
              "0  apple_pie/1011328\n",
              "1   apple_pie/101251\n",
              "2  apple_pie/1034399\n",
              "3   apple_pie/103801\n",
              "4  apple_pie/1038694"
            ]
          },
          "execution_count": 6,
          "metadata": {},
          "output_type": "execute_result"
        }
      ],
      "source": [
        "test_df = pd.read_csv('food-101/food-101/meta/test.txt', header = None, names=['path'])\n",
        "test_df.head()"
      ]
    },
    {
      "cell_type": "code",
      "execution_count": null,
      "metadata": {
        "execution": {
          "iopub.execute_input": "2024-05-23T06:22:31.632491Z",
          "iopub.status.busy": "2024-05-23T06:22:31.631861Z",
          "iopub.status.idle": "2024-05-23T06:22:31.637549Z",
          "shell.execute_reply": "2024-05-23T06:22:31.636472Z",
          "shell.execute_reply.started": "2024-05-23T06:22:31.63245Z"
        },
        "id": "ZSvT2tdxrvGK",
        "trusted": true
      },
      "outputs": [],
      "source": [
        "def spliter(data, class_or_id='id'):\n",
        "    if class_or_id.upper() == 'CLASS':\n",
        "        output = data.split('/')[0]\n",
        "\n",
        "    else:\n",
        "        output = data.split('/')[-1]\n",
        "    return output"
      ]
    },
    {
      "cell_type": "code",
      "execution_count": null,
      "metadata": {
        "execution": {
          "iopub.execute_input": "2024-05-23T06:22:31.826878Z",
          "iopub.status.busy": "2024-05-23T06:22:31.826626Z",
          "iopub.status.idle": "2024-05-23T06:22:31.903046Z",
          "shell.execute_reply": "2024-05-23T06:22:31.902484Z",
          "shell.execute_reply.started": "2024-05-23T06:22:31.826849Z"
        },
        "id": "CnB4yYUhrvGL",
        "trusted": true
      },
      "outputs": [],
      "source": [
        "train_df['label'] = train_df['path'].map(lambda x: spliter(data = x, class_or_id = 'Class'))"
      ]
    },
    {
      "cell_type": "code",
      "execution_count": null,
      "metadata": {
        "execution": {
          "iopub.execute_input": "2024-05-23T06:22:32.009618Z",
          "iopub.status.busy": "2024-05-23T06:22:32.00938Z",
          "iopub.status.idle": "2024-05-23T06:22:32.018432Z",
          "shell.execute_reply": "2024-05-23T06:22:32.017689Z",
          "shell.execute_reply.started": "2024-05-23T06:22:32.009589Z"
        },
        "id": "PikZZG_rrvGM",
        "outputId": "781e409c-024e-4dab-ad54-b5c2ec22d0d3",
        "trusted": true
      },
      "outputs": [
        {
          "data": {
            "text/html": [
              "<div>\n",
              "<style scoped>\n",
              "    .dataframe tbody tr th:only-of-type {\n",
              "        vertical-align: middle;\n",
              "    }\n",
              "\n",
              "    .dataframe tbody tr th {\n",
              "        vertical-align: top;\n",
              "    }\n",
              "\n",
              "    .dataframe thead th {\n",
              "        text-align: right;\n",
              "    }\n",
              "</style>\n",
              "<table border=\"1\" class=\"dataframe\">\n",
              "  <thead>\n",
              "    <tr style=\"text-align: right;\">\n",
              "      <th></th>\n",
              "      <th>path</th>\n",
              "      <th>label</th>\n",
              "    </tr>\n",
              "  </thead>\n",
              "  <tbody>\n",
              "    <tr>\n",
              "      <th>0</th>\n",
              "      <td>apple_pie/1005649</td>\n",
              "      <td>apple_pie</td>\n",
              "    </tr>\n",
              "    <tr>\n",
              "      <th>1</th>\n",
              "      <td>apple_pie/1014775</td>\n",
              "      <td>apple_pie</td>\n",
              "    </tr>\n",
              "    <tr>\n",
              "      <th>2</th>\n",
              "      <td>apple_pie/1026328</td>\n",
              "      <td>apple_pie</td>\n",
              "    </tr>\n",
              "    <tr>\n",
              "      <th>3</th>\n",
              "      <td>apple_pie/1028787</td>\n",
              "      <td>apple_pie</td>\n",
              "    </tr>\n",
              "    <tr>\n",
              "      <th>4</th>\n",
              "      <td>apple_pie/1043283</td>\n",
              "      <td>apple_pie</td>\n",
              "    </tr>\n",
              "  </tbody>\n",
              "</table>\n",
              "</div>"
            ],
            "text/plain": [
              "                path      label\n",
              "0  apple_pie/1005649  apple_pie\n",
              "1  apple_pie/1014775  apple_pie\n",
              "2  apple_pie/1026328  apple_pie\n",
              "3  apple_pie/1028787  apple_pie\n",
              "4  apple_pie/1043283  apple_pie"
            ]
          },
          "execution_count": 9,
          "metadata": {},
          "output_type": "execute_result"
        }
      ],
      "source": [
        "train_df.head()"
      ]
    },
    {
      "cell_type": "code",
      "execution_count": null,
      "metadata": {
        "execution": {
          "iopub.execute_input": "2024-05-23T06:22:32.190837Z",
          "iopub.status.busy": "2024-05-23T06:22:32.190149Z",
          "iopub.status.idle": "2024-05-23T06:22:32.260475Z",
          "shell.execute_reply": "2024-05-23T06:22:32.259753Z",
          "shell.execute_reply.started": "2024-05-23T06:22:32.190801Z"
        },
        "id": "r-HFZSZ7rvGM",
        "trusted": true
      },
      "outputs": [],
      "source": [
        "train_df['idx'] = train_df['path'].map(lambda x: spliter(x))"
      ]
    },
    {
      "cell_type": "code",
      "execution_count": null,
      "metadata": {
        "execution": {
          "iopub.execute_input": "2024-05-23T06:22:32.385566Z",
          "iopub.status.busy": "2024-05-23T06:22:32.385341Z",
          "iopub.status.idle": "2024-05-23T06:22:32.396012Z",
          "shell.execute_reply": "2024-05-23T06:22:32.395261Z",
          "shell.execute_reply.started": "2024-05-23T06:22:32.385539Z"
        },
        "id": "O4yS4_LqrvGN",
        "outputId": "57956610-a44e-4e4a-91cf-0a240b37ab8c",
        "trusted": true
      },
      "outputs": [
        {
          "data": {
            "text/html": [
              "<div>\n",
              "<style scoped>\n",
              "    .dataframe tbody tr th:only-of-type {\n",
              "        vertical-align: middle;\n",
              "    }\n",
              "\n",
              "    .dataframe tbody tr th {\n",
              "        vertical-align: top;\n",
              "    }\n",
              "\n",
              "    .dataframe thead th {\n",
              "        text-align: right;\n",
              "    }\n",
              "</style>\n",
              "<table border=\"1\" class=\"dataframe\">\n",
              "  <thead>\n",
              "    <tr style=\"text-align: right;\">\n",
              "      <th></th>\n",
              "      <th>path</th>\n",
              "      <th>label</th>\n",
              "      <th>idx</th>\n",
              "    </tr>\n",
              "  </thead>\n",
              "  <tbody>\n",
              "    <tr>\n",
              "      <th>0</th>\n",
              "      <td>apple_pie/1005649</td>\n",
              "      <td>apple_pie</td>\n",
              "      <td>1005649</td>\n",
              "    </tr>\n",
              "    <tr>\n",
              "      <th>1</th>\n",
              "      <td>apple_pie/1014775</td>\n",
              "      <td>apple_pie</td>\n",
              "      <td>1014775</td>\n",
              "    </tr>\n",
              "    <tr>\n",
              "      <th>2</th>\n",
              "      <td>apple_pie/1026328</td>\n",
              "      <td>apple_pie</td>\n",
              "      <td>1026328</td>\n",
              "    </tr>\n",
              "    <tr>\n",
              "      <th>3</th>\n",
              "      <td>apple_pie/1028787</td>\n",
              "      <td>apple_pie</td>\n",
              "      <td>1028787</td>\n",
              "    </tr>\n",
              "    <tr>\n",
              "      <th>4</th>\n",
              "      <td>apple_pie/1043283</td>\n",
              "      <td>apple_pie</td>\n",
              "      <td>1043283</td>\n",
              "    </tr>\n",
              "  </tbody>\n",
              "</table>\n",
              "</div>"
            ],
            "text/plain": [
              "                path      label      idx\n",
              "0  apple_pie/1005649  apple_pie  1005649\n",
              "1  apple_pie/1014775  apple_pie  1014775\n",
              "2  apple_pie/1026328  apple_pie  1026328\n",
              "3  apple_pie/1028787  apple_pie  1028787\n",
              "4  apple_pie/1043283  apple_pie  1043283"
            ]
          },
          "execution_count": 11,
          "metadata": {},
          "output_type": "execute_result"
        }
      ],
      "source": [
        "train_df.head()"
      ]
    },
    {
      "cell_type": "code",
      "execution_count": null,
      "metadata": {
        "execution": {
          "iopub.execute_input": "2024-05-23T06:22:32.568742Z",
          "iopub.status.busy": "2024-05-23T06:22:32.568258Z",
          "iopub.status.idle": "2024-05-23T06:22:32.618975Z",
          "shell.execute_reply": "2024-05-23T06:22:32.618426Z",
          "shell.execute_reply.started": "2024-05-23T06:22:32.568712Z"
        },
        "id": "4ObyC9L_rvGO",
        "trusted": true
      },
      "outputs": [],
      "source": [
        "test_df['label'] = test_df['path'].map(lambda x: spliter(x, 'class'))\n",
        "test_df['idx'] = test_df['path'].map(lambda x: spliter(x))"
      ]
    },
    {
      "cell_type": "code",
      "execution_count": null,
      "metadata": {
        "execution": {
          "iopub.execute_input": "2024-05-23T06:22:32.792824Z",
          "iopub.status.busy": "2024-05-23T06:22:32.792596Z",
          "iopub.status.idle": "2024-05-23T06:22:32.802Z",
          "shell.execute_reply": "2024-05-23T06:22:32.801267Z",
          "shell.execute_reply.started": "2024-05-23T06:22:32.792787Z"
        },
        "id": "ktTxYc9mrvG-",
        "outputId": "66fac752-388b-4b87-a6ef-b558755dbb58",
        "trusted": true
      },
      "outputs": [
        {
          "data": {
            "text/html": [
              "<div>\n",
              "<style scoped>\n",
              "    .dataframe tbody tr th:only-of-type {\n",
              "        vertical-align: middle;\n",
              "    }\n",
              "\n",
              "    .dataframe tbody tr th {\n",
              "        vertical-align: top;\n",
              "    }\n",
              "\n",
              "    .dataframe thead th {\n",
              "        text-align: right;\n",
              "    }\n",
              "</style>\n",
              "<table border=\"1\" class=\"dataframe\">\n",
              "  <thead>\n",
              "    <tr style=\"text-align: right;\">\n",
              "      <th></th>\n",
              "      <th>path</th>\n",
              "      <th>label</th>\n",
              "      <th>idx</th>\n",
              "    </tr>\n",
              "  </thead>\n",
              "  <tbody>\n",
              "    <tr>\n",
              "      <th>0</th>\n",
              "      <td>apple_pie/1011328</td>\n",
              "      <td>apple_pie</td>\n",
              "      <td>1011328</td>\n",
              "    </tr>\n",
              "    <tr>\n",
              "      <th>1</th>\n",
              "      <td>apple_pie/101251</td>\n",
              "      <td>apple_pie</td>\n",
              "      <td>101251</td>\n",
              "    </tr>\n",
              "    <tr>\n",
              "      <th>2</th>\n",
              "      <td>apple_pie/1034399</td>\n",
              "      <td>apple_pie</td>\n",
              "      <td>1034399</td>\n",
              "    </tr>\n",
              "    <tr>\n",
              "      <th>3</th>\n",
              "      <td>apple_pie/103801</td>\n",
              "      <td>apple_pie</td>\n",
              "      <td>103801</td>\n",
              "    </tr>\n",
              "    <tr>\n",
              "      <th>4</th>\n",
              "      <td>apple_pie/1038694</td>\n",
              "      <td>apple_pie</td>\n",
              "      <td>1038694</td>\n",
              "    </tr>\n",
              "  </tbody>\n",
              "</table>\n",
              "</div>"
            ],
            "text/plain": [
              "                path      label      idx\n",
              "0  apple_pie/1011328  apple_pie  1011328\n",
              "1   apple_pie/101251  apple_pie   101251\n",
              "2  apple_pie/1034399  apple_pie  1034399\n",
              "3   apple_pie/103801  apple_pie   103801\n",
              "4  apple_pie/1038694  apple_pie  1038694"
            ]
          },
          "execution_count": 13,
          "metadata": {},
          "output_type": "execute_result"
        }
      ],
      "source": [
        "test_df.head()"
      ]
    },
    {
      "cell_type": "code",
      "execution_count": null,
      "metadata": {
        "execution": {
          "iopub.execute_input": "2024-05-23T06:22:32.988108Z",
          "iopub.status.busy": "2024-05-23T06:22:32.987634Z",
          "iopub.status.idle": "2024-05-23T06:22:32.999495Z",
          "shell.execute_reply": "2024-05-23T06:22:32.998732Z",
          "shell.execute_reply.started": "2024-05-23T06:22:32.988066Z"
        },
        "id": "tTSLqM8srvG_",
        "trusted": true
      },
      "outputs": [],
      "source": [
        "mini_20 = train_df['label'].unique()[:20]"
      ]
    },
    {
      "cell_type": "code",
      "execution_count": null,
      "metadata": {
        "execution": {
          "iopub.execute_input": "2024-05-23T06:22:33.190198Z",
          "iopub.status.busy": "2024-05-23T06:22:33.189638Z",
          "iopub.status.idle": "2024-05-23T06:22:33.195133Z",
          "shell.execute_reply": "2024-05-23T06:22:33.194424Z",
          "shell.execute_reply.started": "2024-05-23T06:22:33.190166Z"
        },
        "id": "y_XwjC21rvG_",
        "outputId": "b380cf32-57fb-4e8e-cb06-291e4068b46f",
        "trusted": true
      },
      "outputs": [
        {
          "data": {
            "text/plain": [
              "array(['apple_pie', 'baby_back_ribs', 'baklava', 'beef_carpaccio',\n",
              "       'beef_tartare', 'beet_salad', 'beignets', 'bibimbap',\n",
              "       'bread_pudding', 'breakfast_burrito', 'bruschetta', 'caesar_salad',\n",
              "       'cannoli', 'caprese_salad', 'carrot_cake', 'ceviche', 'cheesecake',\n",
              "       'cheese_plate', 'chicken_curry', 'chicken_quesadilla'],\n",
              "      dtype=object)"
            ]
          },
          "execution_count": 15,
          "metadata": {},
          "output_type": "execute_result"
        }
      ],
      "source": [
        "mini_20"
      ]
    },
    {
      "cell_type": "code",
      "execution_count": null,
      "metadata": {
        "execution": {
          "iopub.execute_input": "2024-05-23T06:22:38.52012Z",
          "iopub.status.busy": "2024-05-23T06:22:38.519478Z",
          "iopub.status.idle": "2024-05-23T06:22:38.524137Z",
          "shell.execute_reply": "2024-05-23T06:22:38.523253Z",
          "shell.execute_reply.started": "2024-05-23T06:22:38.520078Z"
        },
        "id": "_E4Ry-lKrvHA",
        "trusted": true
      },
      "outputs": [],
      "source": [
        "list_ = []\n",
        "for l in mini_20:\n",
        "    list_.append(l.upper())"
      ]
    },
    {
      "cell_type": "code",
      "execution_count": null,
      "metadata": {
        "execution": {
          "iopub.execute_input": "2024-05-23T06:22:38.841807Z",
          "iopub.status.busy": "2024-05-23T06:22:38.841546Z",
          "iopub.status.idle": "2024-05-23T06:22:38.84582Z",
          "shell.execute_reply": "2024-05-23T06:22:38.845027Z",
          "shell.execute_reply.started": "2024-05-23T06:22:38.841769Z"
        },
        "id": "zNBFxHuOrvHA",
        "trusted": true
      },
      "outputs": [],
      "source": [
        "mini_20 = [f.upper() for f in mini_20]"
      ]
    },
    {
      "cell_type": "code",
      "execution_count": null,
      "metadata": {
        "execution": {
          "iopub.execute_input": "2024-05-23T06:22:39.070882Z",
          "iopub.status.busy": "2024-05-23T06:22:39.070615Z",
          "iopub.status.idle": "2024-05-23T06:22:39.075078Z",
          "shell.execute_reply": "2024-05-23T06:22:39.074335Z",
          "shell.execute_reply.started": "2024-05-23T06:22:39.070852Z"
        },
        "id": "ruRa12rNrvHB",
        "trusted": true
      },
      "outputs": [],
      "source": [
        "def prepare_data(label):\n",
        "    if label.upper() in mini_20:\n",
        "        return label\n",
        "    else:\n",
        "        return 'big_class'"
      ]
    },
    {
      "cell_type": "code",
      "execution_count": null,
      "metadata": {
        "execution": {
          "iopub.execute_input": "2024-05-23T06:22:43.467314Z",
          "iopub.status.busy": "2024-05-23T06:22:43.46702Z",
          "iopub.status.idle": "2024-05-23T06:22:43.550113Z",
          "shell.execute_reply": "2024-05-23T06:22:43.549416Z",
          "shell.execute_reply.started": "2024-05-23T06:22:43.467275Z"
        },
        "id": "fkC1MJJirvHB",
        "trusted": true
      },
      "outputs": [],
      "source": [
        "train_df['label'] = train_df['label'].map(lambda x: prepare_data(x))\n",
        "test_df['label'] = test_df['label'].map(lambda x: prepare_data(x))"
      ]
    },
    {
      "cell_type": "code",
      "execution_count": null,
      "metadata": {
        "execution": {
          "iopub.execute_input": "2024-05-23T06:22:43.690678Z",
          "iopub.status.busy": "2024-05-23T06:22:43.690428Z",
          "iopub.status.idle": "2024-05-23T06:22:43.702639Z",
          "shell.execute_reply": "2024-05-23T06:22:43.701972Z",
          "shell.execute_reply.started": "2024-05-23T06:22:43.690649Z"
        },
        "id": "AZ7nEwAsrvHB",
        "outputId": "f8d127e2-30fa-45fd-8bbe-08a548f01fd1",
        "trusted": true
      },
      "outputs": [
        {
          "data": {
            "text/plain": [
              "array(['apple_pie', 'baby_back_ribs', 'baklava', 'beef_carpaccio',\n",
              "       'beef_tartare', 'beet_salad', 'beignets', 'bibimbap',\n",
              "       'bread_pudding', 'breakfast_burrito', 'bruschetta', 'caesar_salad',\n",
              "       'cannoli', 'caprese_salad', 'carrot_cake', 'ceviche', 'cheesecake',\n",
              "       'cheese_plate', 'chicken_curry', 'chicken_quesadilla', 'big_class'],\n",
              "      dtype=object)"
            ]
          },
          "execution_count": 20,
          "metadata": {},
          "output_type": "execute_result"
        }
      ],
      "source": [
        "train_df['label'].unique()"
      ]
    },
    {
      "cell_type": "code",
      "execution_count": null,
      "metadata": {
        "execution": {
          "iopub.execute_input": "2024-05-23T06:22:43.889887Z",
          "iopub.status.busy": "2024-05-23T06:22:43.889367Z",
          "iopub.status.idle": "2024-05-23T06:22:43.893436Z",
          "shell.execute_reply": "2024-05-23T06:22:43.892674Z",
          "shell.execute_reply.started": "2024-05-23T06:22:43.889852Z"
        },
        "id": "PbEDh4RnrvHC",
        "trusted": true
      },
      "outputs": [],
      "source": [
        "def add_exact_path(path):\n",
        "    return 'food-101/food-101/images/'+path+'.jpg'"
      ]
    },
    {
      "cell_type": "code",
      "execution_count": null,
      "metadata": {
        "execution": {
          "iopub.execute_input": "2024-05-23T06:22:47.294813Z",
          "iopub.status.busy": "2024-05-23T06:22:47.294082Z",
          "iopub.status.idle": "2024-05-23T06:23:13.047303Z",
          "shell.execute_reply": "2024-05-23T06:23:13.046572Z",
          "shell.execute_reply.started": "2024-05-23T06:22:47.294761Z"
        },
        "id": "dkp41zMarvHD",
        "trusted": true
      },
      "outputs": [],
      "source": [
        "train_df['path'] = train_df[['path']].apply(add_exact_path, axis=1)\n",
        "test_df['path'] = test_df[['path']].apply(add_exact_path, axis=1)"
      ]
    },
    {
      "cell_type": "code",
      "execution_count": null,
      "metadata": {
        "execution": {
          "iopub.execute_input": "2024-05-23T06:23:13.049459Z",
          "iopub.status.busy": "2024-05-23T06:23:13.049089Z",
          "iopub.status.idle": "2024-05-23T06:23:13.059402Z",
          "shell.execute_reply": "2024-05-23T06:23:13.058684Z",
          "shell.execute_reply.started": "2024-05-23T06:23:13.049421Z"
        },
        "id": "Mze_Q2jVrvHD",
        "outputId": "45c97051-8840-4746-d993-f1a968ebfbad",
        "trusted": true
      },
      "outputs": [
        {
          "data": {
            "text/html": [
              "<div>\n",
              "<style scoped>\n",
              "    .dataframe tbody tr th:only-of-type {\n",
              "        vertical-align: middle;\n",
              "    }\n",
              "\n",
              "    .dataframe tbody tr th {\n",
              "        vertical-align: top;\n",
              "    }\n",
              "\n",
              "    .dataframe thead th {\n",
              "        text-align: right;\n",
              "    }\n",
              "</style>\n",
              "<table border=\"1\" class=\"dataframe\">\n",
              "  <thead>\n",
              "    <tr style=\"text-align: right;\">\n",
              "      <th></th>\n",
              "      <th>path</th>\n",
              "      <th>label</th>\n",
              "      <th>idx</th>\n",
              "    </tr>\n",
              "  </thead>\n",
              "  <tbody>\n",
              "    <tr>\n",
              "      <th>0</th>\n",
              "      <td>food-101/food-101/images/apple_pie/1005649.jpg</td>\n",
              "      <td>apple_pie</td>\n",
              "      <td>1005649</td>\n",
              "    </tr>\n",
              "    <tr>\n",
              "      <th>1</th>\n",
              "      <td>food-101/food-101/images/apple_pie/1014775.jpg</td>\n",
              "      <td>apple_pie</td>\n",
              "      <td>1014775</td>\n",
              "    </tr>\n",
              "    <tr>\n",
              "      <th>2</th>\n",
              "      <td>food-101/food-101/images/apple_pie/1026328.jpg</td>\n",
              "      <td>apple_pie</td>\n",
              "      <td>1026328</td>\n",
              "    </tr>\n",
              "    <tr>\n",
              "      <th>3</th>\n",
              "      <td>food-101/food-101/images/apple_pie/1028787.jpg</td>\n",
              "      <td>apple_pie</td>\n",
              "      <td>1028787</td>\n",
              "    </tr>\n",
              "    <tr>\n",
              "      <th>4</th>\n",
              "      <td>food-101/food-101/images/apple_pie/1043283.jpg</td>\n",
              "      <td>apple_pie</td>\n",
              "      <td>1043283</td>\n",
              "    </tr>\n",
              "  </tbody>\n",
              "</table>\n",
              "</div>"
            ],
            "text/plain": [
              "                                             path      label      idx\n",
              "0  food-101/food-101/images/apple_pie/1005649.jpg  apple_pie  1005649\n",
              "1  food-101/food-101/images/apple_pie/1014775.jpg  apple_pie  1014775\n",
              "2  food-101/food-101/images/apple_pie/1026328.jpg  apple_pie  1026328\n",
              "3  food-101/food-101/images/apple_pie/1028787.jpg  apple_pie  1028787\n",
              "4  food-101/food-101/images/apple_pie/1043283.jpg  apple_pie  1043283"
            ]
          },
          "execution_count": 23,
          "metadata": {},
          "output_type": "execute_result"
        }
      ],
      "source": [
        "train_df.head()"
      ]
    },
    {
      "cell_type": "code",
      "execution_count": null,
      "metadata": {
        "execution": {
          "iopub.execute_input": "2024-05-23T06:23:13.060664Z",
          "iopub.status.busy": "2024-05-23T06:23:13.060413Z",
          "iopub.status.idle": "2024-05-23T06:23:13.120318Z",
          "shell.execute_reply": "2024-05-23T06:23:13.119576Z",
          "shell.execute_reply.started": "2024-05-23T06:23:13.060621Z"
        },
        "id": "fjyE2sYgrvHD",
        "trusted": true
      },
      "outputs": [],
      "source": [
        "from matplotlib import pyplot as plt\n",
        "img = plt.imread(test_df['path'].iloc[0])\n",
        "# plt.imshow(img)\n",
        "img = img/255."
      ]
    },
    {
      "cell_type": "code",
      "execution_count": null,
      "metadata": {
        "execution": {
          "iopub.execute_input": "2024-05-23T06:23:13.122239Z",
          "iopub.status.busy": "2024-05-23T06:23:13.122006Z",
          "iopub.status.idle": "2024-05-23T06:23:13.12742Z",
          "shell.execute_reply": "2024-05-23T06:23:13.126642Z",
          "shell.execute_reply.started": "2024-05-23T06:23:13.122192Z"
        },
        "id": "LL8VZzOzrvHE",
        "outputId": "e6129f23-5cfa-4965-b8ff-5a4f69bfca3c",
        "trusted": true
      },
      "outputs": [
        {
          "data": {
            "text/plain": [
              "(512, 512, 3)"
            ]
          },
          "execution_count": 25,
          "metadata": {},
          "output_type": "execute_result"
        }
      ],
      "source": [
        "img.shape"
      ]
    },
    {
      "cell_type": "code",
      "execution_count": null,
      "metadata": {
        "execution": {
          "iopub.execute_input": "2024-05-23T06:23:13.128685Z",
          "iopub.status.busy": "2024-05-23T06:23:13.128456Z",
          "iopub.status.idle": "2024-05-23T06:23:13.13803Z",
          "shell.execute_reply": "2024-05-23T06:23:13.137353Z",
          "shell.execute_reply.started": "2024-05-23T06:23:13.128647Z"
        },
        "id": "8MA301ulrvHE",
        "outputId": "7b88ec31-30b9-4753-c962-8acf3559d442",
        "trusted": true
      },
      "outputs": [
        {
          "data": {
            "text/plain": [
              "path     food-101/food-101/images/apple_pie/1005649.jpg\n",
              "label                                         apple_pie\n",
              "idx                                             1005649\n",
              "Name: 0, dtype: object"
            ]
          },
          "execution_count": 26,
          "metadata": {},
          "output_type": "execute_result"
        }
      ],
      "source": [
        "train_df.iloc[0]"
      ]
    },
    {
      "cell_type": "code",
      "execution_count": null,
      "metadata": {
        "execution": {
          "iopub.execute_input": "2024-05-23T06:23:13.139411Z",
          "iopub.status.busy": "2024-05-23T06:23:13.139133Z",
          "iopub.status.idle": "2024-05-23T06:23:13.418025Z",
          "shell.execute_reply": "2024-05-23T06:23:13.417342Z",
          "shell.execute_reply.started": "2024-05-23T06:23:13.139373Z"
        },
        "id": "av-pGzmtrvHE",
        "outputId": "4d817623-9ed0-43ff-a4b6-a04d4f78d9ab",
        "trusted": true
      },
      "outputs": [
        {
          "data": {
            "text/plain": [
              "<matplotlib.image.AxesImage at 0x7f684d6150d0>"
            ]
          },
          "execution_count": 27,
          "metadata": {},
          "output_type": "execute_result"
        },
        {
          "data": {
            "image/png": "[encoded data removed]",
            "text/plain": [
              "<Figure size 432x288 with 1 Axes>"
            ]
          },
          "metadata": {
            "needs_background": "light"
          },
          "output_type": "display_data"
        }
      ],
      "source": [
        "from matplotlib import pyplot as plt\n",
        "img = plt.imread(train_df['path'].iloc[0])\n",
        "plt.imshow(img)"
      ]
    },
    {
      "cell_type": "code",
      "execution_count": null,
      "metadata": {
        "execution": {
          "iopub.execute_input": "2024-05-23T06:23:13.419183Z",
          "iopub.status.busy": "2024-05-23T06:23:13.418996Z",
          "iopub.status.idle": "2024-05-23T06:23:13.42445Z",
          "shell.execute_reply": "2024-05-23T06:23:13.423679Z",
          "shell.execute_reply.started": "2024-05-23T06:23:13.419158Z"
        },
        "id": "UUr4mU6TrvHF",
        "outputId": "86b2445b-e24f-4980-a38f-748bbd059e1b",
        "trusted": true
      },
      "outputs": [
        {
          "data": {
            "text/plain": [
              "(512, 308, 3)"
            ]
          },
          "execution_count": 28,
          "metadata": {},
          "output_type": "execute_result"
        }
      ],
      "source": [
        "img.shape"
      ]
    },
    {
      "cell_type": "code",
      "execution_count": null,
      "metadata": {
        "execution": {
          "iopub.execute_input": "2024-05-23T06:23:13.425765Z",
          "iopub.status.busy": "2024-05-23T06:23:13.425506Z",
          "iopub.status.idle": "2024-05-23T06:23:18.831166Z",
          "shell.execute_reply": "2024-05-23T06:23:18.830243Z",
          "shell.execute_reply.started": "2024-05-23T06:23:13.425726Z"
        },
        "id": "BERECuo0rvHF",
        "trusted": true
      },
      "outputs": [],
      "source": [
        "from tensorflow.keras.preprocessing.image import ImageDataGenerator\n",
        "datagen = ImageDataGenerator(rescale=1./255,\n",
        "        shear_range=0.2,\n",
        "        zoom_range=0.2,\n",
        "        horizontal_flip=True\n",
        "    )\n",
        "test_gen = ImageDataGenerator(rescale=1./255)"
      ]
    },
    {
      "cell_type": "code",
      "execution_count": null,
      "metadata": {
        "execution": {
          "iopub.execute_input": "2024-05-23T06:23:18.832904Z",
          "iopub.status.busy": "2024-05-23T06:23:18.832599Z",
          "iopub.status.idle": "2024-05-23T06:28:17.721711Z",
          "shell.execute_reply": "2024-05-23T06:28:17.720861Z",
          "shell.execute_reply.started": "2024-05-23T06:23:18.832861Z"
        },
        "id": "9KqOltXPrvHF",
        "outputId": "5f352cf3-b10f-4e7a-8e29-5a0a943f1dec",
        "trusted": true
      },
      "outputs": [
        {
          "name": "stdout",
          "output_type": "stream",
          "text": [
            "Found 75750 validated image filenames belonging to 21 classes.\n"
          ]
        }
      ],
      "source": [
        "train_gen = datagen.flow_from_dataframe(dataframe = train_df, directory=None, x_col='path', y_col='label',\n",
        "    weight_col=None, target_size=(256, 256), color_mode='rgb', #subset='training',\n",
        "    classes=None, class_mode='categorical', batch_size=32, shuffle=True)\n",
        "# val_gen = datagen.flow_from_dataframe(dataframe = train_df, directory=None, x_col='path', y_col='label',\n",
        "#     weight_col=None, target_size=(256, 256), color_mode='rgb', subset='validation',\n",
        "#     classes=None, class_mode='categorical', batch_size=32, shuffle=True)"
      ]
    },
    {
      "cell_type": "code",
      "execution_count": null,
      "metadata": {
        "execution": {
          "iopub.execute_input": "2024-05-23T06:28:17.723862Z",
          "iopub.status.busy": "2024-05-23T06:28:17.723624Z",
          "iopub.status.idle": "2024-05-23T06:29:51.121429Z",
          "shell.execute_reply": "2024-05-23T06:29:51.120658Z",
          "shell.execute_reply.started": "2024-05-23T06:28:17.72383Z"
        },
        "id": "wTO_P2CPrvHG",
        "outputId": "2b99bf20-f2e3-45c7-8418-f9133fda6c9c",
        "trusted": true
      },
      "outputs": [
        {
          "name": "stdout",
          "output_type": "stream",
          "text": [
            "Found 25250 validated image filenames belonging to 21 classes.\n"
          ]
        }
      ],
      "source": [
        "test_gen = test_gen.flow_from_dataframe(dataframe = test_df, directory=None, x_col='path', y_col='label',\n",
        "    weight_col=None, target_size=(256, 256), color_mode='rgb',\n",
        "    classes=None, class_mode='categorical', batch_size=32, shuffle=True)"
      ]
    },
    {
      "cell_type": "code",
      "execution_count": null,
      "metadata": {
        "execution": {
          "iopub.execute_input": "2024-05-23T06:29:51.122828Z",
          "iopub.status.busy": "2024-05-23T06:29:51.12259Z",
          "iopub.status.idle": "2024-05-23T06:29:55.500834Z",
          "shell.execute_reply": "2024-05-23T06:29:55.499996Z",
          "shell.execute_reply.started": "2024-05-23T06:29:51.122798Z"
        },
        "id": "YRJ5j-WTrvHG",
        "outputId": "6ad88c3e-ff35-41a7-8a3c-bc25c1c285e2",
        "trusted": true
      },
      "outputs": [
        {
          "name": "stdout",
          "output_type": "stream",
          "text": [
            "Downloading data from https://storage.googleapis.com/tensorflow/keras-applications/xception/xception_weights_tf_dim_ordering_tf_kernels_notop.h5\n",
            "83689472/83683744 [==============================] - 0s 0us/step\n",
            "83697664/83683744 [==============================] - 0s 0us/step\n"
          ]
        },
        {
          "name": "stderr",
          "output_type": "stream",
          "text": [
            "/opt/conda/lib/python3.7/site-packages/keras/optimizer_v2/optimizer_v2.py:356: UserWarning: The `lr` argument is deprecated, use `learning_rate` instead.\n",
            "  \"The `lr` argument is deprecated, use `learning_rate` instead.\")\n"
          ]
        }
      ],
      "source": [
        "import tensorflow as tf\n",
        "import tensorflow.keras.backend as K\n",
        "from tensorflow.keras import regularizers\n",
        "from tensorflow.keras.applications import efficientnet\n",
        "from tensorflow.keras.applications.inception_v3 import InceptionV3\n",
        "from tensorflow.keras.applications.inception_resnet_v2 import InceptionResNetV2\n",
        "from tensorflow.keras.models import Sequential, Model\n",
        "from tensorflow.keras.layers import Dense, Dropout, Activation, Flatten\n",
        "from tensorflow.keras.layers import Convolution2D, MaxPooling2D, ZeroPadding2D, GlobalAveragePooling2D, AveragePooling2D\n",
        "from tensorflow.keras.preprocessing.image import ImageDataGenerator\n",
        "from tensorflow.keras.callbacks import ModelCheckpoint, CSVLogger\n",
        "from tensorflow.keras.optimizers import SGD, Adam\n",
        "from tensorflow.keras.regularizers import l2\n",
        "from tensorflow.keras.applications.xception import Xception\n",
        "\n",
        "inception = Xception(weights='imagenet', include_top=False)\n",
        "x = inception.output\n",
        "x = GlobalAveragePooling2D()(x)\n",
        "x = Dense(256,activation='relu')(x)\n",
        "# x = Dropout(0.4)(x)\n",
        "x = Dense(128,activation='relu')(x)\n",
        "x = Dropout(0.2)(x)\n",
        "\n",
        "predictions = Dense(21, activation='softmax')(x)\n",
        "\n",
        "model = Model(inputs=inception.input, outputs=predictions)\n",
        "model.compile(optimizer=Adam(lr=0.0001), loss='categorical_crossentropy', metrics=['accuracy'])"
      ]
    },
    {
      "cell_type": "code",
      "execution_count": null,
      "metadata": {
        "execution": {
          "iopub.execute_input": "2024-05-23T06:36:32.019146Z",
          "iopub.status.busy": "2024-05-23T06:36:32.018576Z",
          "iopub.status.idle": "2024-05-23T07:58:38.891863Z",
          "shell.execute_reply": "2024-05-23T07:58:38.891009Z",
          "shell.execute_reply.started": "2024-05-23T06:36:32.019108Z"
        },
        "id": "8CU5gX9DrvHH",
        "outputId": "7d2d24b6-8dcc-450c-82f6-c6e5c171f3c8",
        "trusted": true
      },
      "outputs": [
        {
          "name": "stderr",
          "output_type": "stream",
          "text": [
            "/opt/conda/lib/python3.7/site-packages/keras/engine/training.py:1972: UserWarning: `Model.fit_generator` is deprecated and will be removed in a future version. Please use `Model.fit`, which supports generators.\n",
            "  warnings.warn('`Model.fit_generator` is deprecated and '\n"
          ]
        },
        {
          "name": "stdout",
          "output_type": "stream",
          "text": [
            "Epoch 1/100\n",
            "74/74 [==============================] - 70s 782ms/step - loss: 1.3785 - accuracy: 0.7694\n",
            "Epoch 2/100\n",
            "74/74 [==============================] - 57s 769ms/step - loss: 1.0154 - accuracy: 0.8041\n",
            "Epoch 3/100\n",
            "74/74 [==============================] - 57s 770ms/step - loss: 0.9506 - accuracy: 0.8053\n",
            "Epoch 4/100\n",
            "74/74 [==============================] - 58s 771ms/step - loss: 0.8833 - accuracy: 0.8032\n",
            "Epoch 5/100\n",
            "74/74 [==============================] - 56s 756ms/step - loss: 0.7723 - accuracy: 0.8171\n",
            "Epoch 6/100\n",
            "74/74 [==============================] - 56s 751ms/step - loss: 0.7088 - accuracy: 0.8222\n",
            "Epoch 7/100\n",
            "74/74 [==============================] - 56s 756ms/step - loss: 0.6950 - accuracy: 0.8285\n",
            "Epoch 8/100\n",
            "74/74 [==============================] - 55s 742ms/step - loss: 0.6203 - accuracy: 0.8353\n",
            "Epoch 9/100\n",
            "74/74 [==============================] - 56s 745ms/step - loss: 0.6173 - accuracy: 0.8399\n",
            "Epoch 10/100\n",
            "74/74 [==============================] - 54s 728ms/step - loss: 0.5565 - accuracy: 0.8518\n",
            "Epoch 11/100\n",
            "74/74 [==============================] - 55s 732ms/step - loss: 0.5653 - accuracy: 0.8467\n",
            "Epoch 12/100\n",
            "74/74 [==============================] - 55s 735ms/step - loss: 0.5116 - accuracy: 0.8585\n",
            "Epoch 13/100\n",
            "74/74 [==============================] - 54s 727ms/step - loss: 0.5215 - accuracy: 0.8632\n",
            "Epoch 14/100\n",
            "74/74 [==============================] - 54s 718ms/step - loss: 0.4720 - accuracy: 0.8606\n",
            "Epoch 15/100\n",
            "74/74 [==============================] - 53s 716ms/step - loss: 0.4653 - accuracy: 0.8704\n",
            "Epoch 16/100\n",
            "74/74 [==============================] - 53s 709ms/step - loss: 0.4592 - accuracy: 0.8771\n",
            "Epoch 17/100\n",
            "74/74 [==============================] - 53s 706ms/step - loss: 0.4505 - accuracy: 0.8767\n",
            "Epoch 18/100\n",
            "74/74 [==============================] - 52s 698ms/step - loss: 0.4399 - accuracy: 0.8792\n",
            "Epoch 19/100\n",
            "74/74 [==============================] - 52s 696ms/step - loss: 0.4383 - accuracy: 0.8830\n",
            "Epoch 20/100\n",
            "74/74 [==============================] - 52s 697ms/step - loss: 0.4424 - accuracy: 0.8822\n",
            "Epoch 21/100\n",
            "74/74 [==============================] - 51s 688ms/step - loss: 0.4142 - accuracy: 0.8860\n",
            "Epoch 22/100\n",
            "74/74 [==============================] - 52s 701ms/step - loss: 0.3842 - accuracy: 0.8970\n",
            "Epoch 23/100\n",
            "74/74 [==============================] - 51s 683ms/step - loss: 0.4000 - accuracy: 0.8877\n",
            "Epoch 24/100\n",
            "74/74 [==============================] - 51s 681ms/step - loss: 0.4259 - accuracy: 0.8818\n",
            "Epoch 25/100\n",
            "74/74 [==============================] - 50s 673ms/step - loss: 0.3949 - accuracy: 0.8894\n",
            "Epoch 26/100\n",
            "74/74 [==============================] - 50s 668ms/step - loss: 0.4027 - accuracy: 0.8910\n",
            "Epoch 27/100\n",
            "74/74 [==============================] - 51s 677ms/step - loss: 0.3860 - accuracy: 0.8953\n",
            "Epoch 28/100\n",
            "74/74 [==============================] - 50s 669ms/step - loss: 0.3698 - accuracy: 0.8957\n",
            "Epoch 29/100\n",
            "74/74 [==============================] - 50s 672ms/step - loss: 0.3390 - accuracy: 0.9054\n",
            "Epoch 30/100\n",
            "74/74 [==============================] - 49s 661ms/step - loss: 0.4082 - accuracy: 0.8944\n",
            "Epoch 31/100\n",
            "74/74 [==============================] - 49s 651ms/step - loss: 0.3596 - accuracy: 0.8970\n",
            "Epoch 32/100\n",
            "74/74 [==============================] - 50s 665ms/step - loss: 0.3720 - accuracy: 0.8986\n",
            "Epoch 33/100\n",
            "74/74 [==============================] - 48s 644ms/step - loss: 0.3439 - accuracy: 0.9041\n",
            "Epoch 34/100\n",
            "74/74 [==============================] - 49s 648ms/step - loss: 0.3519 - accuracy: 0.9008\n",
            "Epoch 35/100\n",
            "74/74 [==============================] - 49s 651ms/step - loss: 0.3578 - accuracy: 0.9046\n",
            "Epoch 36/100\n",
            "74/74 [==============================] - 48s 649ms/step - loss: 0.3373 - accuracy: 0.9046\n",
            "Epoch 37/100\n",
            "74/74 [==============================] - 48s 648ms/step - loss: 0.3476 - accuracy: 0.9062\n",
            "Epoch 38/100\n",
            "74/74 [==============================] - 47s 634ms/step - loss: 0.3446 - accuracy: 0.9046\n",
            "Epoch 39/100\n",
            "74/74 [==============================] - 48s 637ms/step - loss: 0.3192 - accuracy: 0.9095\n",
            "Epoch 40/100\n",
            "74/74 [==============================] - 48s 641ms/step - loss: 0.3003 - accuracy: 0.9177\n",
            "Epoch 41/100\n",
            "74/74 [==============================] - 47s 635ms/step - loss: 0.3297 - accuracy: 0.9088\n",
            "Epoch 42/100\n",
            "74/74 [==============================] - 47s 631ms/step - loss: 0.2955 - accuracy: 0.9116\n",
            "Epoch 43/100\n",
            "74/74 [==============================] - 47s 632ms/step - loss: 0.3159 - accuracy: 0.9109\n",
            "Epoch 44/100\n",
            "74/74 [==============================] - 47s 633ms/step - loss: 0.3097 - accuracy: 0.9168\n",
            "Epoch 45/100\n",
            "74/74 [==============================] - 46s 619ms/step - loss: 0.3248 - accuracy: 0.9046\n",
            "Epoch 46/100\n",
            "74/74 [==============================] - 47s 626ms/step - loss: 0.3171 - accuracy: 0.9172\n",
            "Epoch 47/100\n",
            "74/74 [==============================] - 47s 627ms/step - loss: 0.2913 - accuracy: 0.9206\n",
            "Epoch 48/100\n",
            "74/74 [==============================] - 47s 636ms/step - loss: 0.3179 - accuracy: 0.9117\n",
            "Epoch 49/100\n",
            "74/74 [==============================] - 46s 621ms/step - loss: 0.2681 - accuracy: 0.9227\n",
            "Epoch 50/100\n",
            "74/74 [==============================] - 46s 617ms/step - loss: 0.2848 - accuracy: 0.9215\n",
            "Epoch 51/100\n",
            "74/74 [==============================] - 46s 619ms/step - loss: 0.2412 - accuracy: 0.9324\n",
            "Epoch 52/100\n",
            "74/74 [==============================] - 47s 632ms/step - loss: 0.2989 - accuracy: 0.9181\n",
            "Epoch 53/100\n",
            "74/74 [==============================] - 47s 622ms/step - loss: 0.2809 - accuracy: 0.9236\n",
            "Epoch 54/100\n",
            "74/74 [==============================] - 46s 619ms/step - loss: 0.2618 - accuracy: 0.9248\n",
            "Epoch 55/100\n",
            "74/74 [==============================] - 46s 616ms/step - loss: 0.3118 - accuracy: 0.9126\n",
            "Epoch 56/100\n",
            "74/74 [==============================] - 47s 622ms/step - loss: 0.2651 - accuracy: 0.9248\n",
            "Epoch 57/100\n",
            "74/74 [==============================] - 46s 612ms/step - loss: 0.2912 - accuracy: 0.9236\n",
            "Epoch 58/100\n",
            "74/74 [==============================] - 46s 616ms/step - loss: 0.2860 - accuracy: 0.9244\n",
            "Epoch 59/100\n",
            "74/74 [==============================] - 46s 612ms/step - loss: 0.2816 - accuracy: 0.9215\n",
            "Epoch 60/100\n",
            "74/74 [==============================] - 46s 614ms/step - loss: 0.2631 - accuracy: 0.9219\n",
            "Epoch 61/100\n",
            "74/74 [==============================] - 46s 613ms/step - loss: 0.2493 - accuracy: 0.9307\n",
            "Epoch 62/100\n",
            "74/74 [==============================] - 45s 605ms/step - loss: 0.2679 - accuracy: 0.9189\n",
            "Epoch 63/100\n",
            "74/74 [==============================] - 45s 603ms/step - loss: 0.2426 - accuracy: 0.9320\n",
            "Epoch 64/100\n",
            "74/74 [==============================] - 46s 614ms/step - loss: 0.2887 - accuracy: 0.9223\n",
            "Epoch 65/100\n",
            "74/74 [==============================] - 45s 600ms/step - loss: 0.2429 - accuracy: 0.9304\n",
            "Epoch 66/100\n",
            "74/74 [==============================] - 46s 611ms/step - loss: 0.2417 - accuracy: 0.9337\n",
            "Epoch 67/100\n",
            "74/74 [==============================] - 45s 600ms/step - loss: 0.2440 - accuracy: 0.9257\n",
            "Epoch 68/100\n",
            "74/74 [==============================] - 45s 601ms/step - loss: 0.2166 - accuracy: 0.9312\n",
            "Epoch 69/100\n",
            "74/74 [==============================] - 45s 598ms/step - loss: 0.2194 - accuracy: 0.9342\n",
            "Epoch 70/100\n",
            "74/74 [==============================] - 44s 594ms/step - loss: 0.2585 - accuracy: 0.9333\n",
            "Epoch 71/100\n",
            "74/74 [==============================] - 45s 608ms/step - loss: 0.2084 - accuracy: 0.9333\n",
            "Epoch 72/100\n",
            "74/74 [==============================] - 44s 594ms/step - loss: 0.2331 - accuracy: 0.9367\n",
            "Epoch 73/100\n",
            "74/74 [==============================] - 44s 594ms/step - loss: 0.2104 - accuracy: 0.9333\n",
            "Epoch 74/100\n",
            "74/74 [==============================] - 44s 589ms/step - loss: 0.2460 - accuracy: 0.9345\n",
            "Epoch 75/100\n",
            "74/74 [==============================] - 45s 596ms/step - loss: 0.2316 - accuracy: 0.9329\n",
            "Epoch 76/100\n",
            "74/74 [==============================] - 45s 597ms/step - loss: 0.2162 - accuracy: 0.9375\n",
            "Epoch 77/100\n",
            "74/74 [==============================] - 44s 593ms/step - loss: 0.2266 - accuracy: 0.9338\n",
            "Epoch 78/100\n",
            "74/74 [==============================] - 44s 582ms/step - loss: 0.2195 - accuracy: 0.9367\n",
            "Epoch 79/100\n",
            "74/74 [==============================] - 44s 594ms/step - loss: 0.2172 - accuracy: 0.9383\n",
            "Epoch 80/100\n",
            "74/74 [==============================] - 44s 584ms/step - loss: 0.2238 - accuracy: 0.9299\n",
            "Epoch 81/100\n",
            "74/74 [==============================] - 45s 602ms/step - loss: 0.2252 - accuracy: 0.9383\n",
            "Epoch 82/100\n",
            "74/74 [==============================] - 44s 591ms/step - loss: 0.2149 - accuracy: 0.9316\n",
            "Epoch 83/100\n",
            "74/74 [==============================] - 45s 597ms/step - loss: 0.2128 - accuracy: 0.9358\n",
            "Epoch 84/100\n",
            "74/74 [==============================] - 44s 591ms/step - loss: 0.2272 - accuracy: 0.9316\n",
            "Epoch 85/100\n",
            "74/74 [==============================] - 44s 585ms/step - loss: 0.2251 - accuracy: 0.9383\n",
            "Epoch 86/100\n",
            "74/74 [==============================] - 44s 584ms/step - loss: 0.2165 - accuracy: 0.9367\n",
            "Epoch 87/100\n",
            "74/74 [==============================] - 44s 589ms/step - loss: 0.2016 - accuracy: 0.9409\n",
            "Epoch 88/100\n",
            "74/74 [==============================] - 44s 588ms/step - loss: 0.2228 - accuracy: 0.9379\n",
            "Epoch 89/100\n",
            "74/74 [==============================] - 43s 578ms/step - loss: 0.1862 - accuracy: 0.9451\n",
            "Epoch 90/100\n",
            "74/74 [==============================] - 44s 585ms/step - loss: 0.1948 - accuracy: 0.9493\n",
            "Epoch 91/100\n",
            "74/74 [==============================] - 44s 583ms/step - loss: 0.2264 - accuracy: 0.9341\n",
            "Epoch 92/100\n",
            "74/74 [==============================] - 44s 584ms/step - loss: 0.1956 - accuracy: 0.9464\n",
            "Epoch 93/100\n",
            "74/74 [==============================] - 44s 592ms/step - loss: 0.1743 - accuracy: 0.9510\n",
            "Epoch 94/100\n",
            "74/74 [==============================] - 43s 577ms/step - loss: 0.1743 - accuracy: 0.9481\n",
            "Epoch 95/100\n",
            "74/74 [==============================] - 44s 584ms/step - loss: 0.1862 - accuracy: 0.9447\n",
            "Epoch 96/100\n",
            "74/74 [==============================] - 43s 578ms/step - loss: 0.1978 - accuracy: 0.9421\n",
            "Epoch 97/100\n",
            "74/74 [==============================] - 43s 579ms/step - loss: 0.1895 - accuracy: 0.9430\n",
            "Epoch 98/100\n",
            "74/74 [==============================] - 43s 576ms/step - loss: 0.1939 - accuracy: 0.9459\n",
            "Epoch 99/100\n",
            "74/74 [==============================] - 43s 574ms/step - loss: 0.1999 - accuracy: 0.9455\n",
            "Epoch 100/100\n",
            "74/74 [==============================] - 43s 572ms/step - loss: 0.1935 - accuracy: 0.9438\n"
          ]
        }
      ],
      "source": [
        "history = model.fit_generator(train_gen,\n",
        "                    steps_per_epoch = len(train_gen) // 32,\n",
        "#                     validation_data=val_gen,\n",
        "#                     validation_steps=len(val_gen) // 32,\n",
        "                    epochs=100,\n",
        "                    verbose=1)"
      ]
    },
    {
      "cell_type": "code",
      "execution_count": null,
      "metadata": {
        "execution": {
          "iopub.execute_input": "2024-05-23T08:45:18.572301Z",
          "iopub.status.busy": "2024-05-23T08:45:18.571499Z",
          "iopub.status.idle": "2024-05-23T08:50:41.462508Z",
          "shell.execute_reply": "2024-05-23T08:50:41.461751Z",
          "shell.execute_reply.started": "2024-05-23T08:45:18.572263Z"
        },
        "id": "u7TidLkcrvHH",
        "outputId": "f577498e-fc9b-4c91-e501-3aeafa811cbc",
        "trusted": true
      },
      "outputs": [
        {
          "name": "stdout",
          "output_type": "stream",
          "text": [
            "790/790 [==============================] - 322s 407ms/step - loss: 0.3390 - accuracy: 0.9141\n",
            "[0.3390255570411682, 0.9140990376472473]\n"
          ]
        }
      ],
      "source": [
        "results = model.evaluate(test_gen, batch_size=32)\n",
        "print(results)"
      ]
    },
    {
      "cell_type": "code",
      "execution_count": null,
      "metadata": {
        "execution": {
          "iopub.execute_input": "2024-05-23T08:52:24.360117Z",
          "iopub.status.busy": "2024-05-23T08:52:24.359346Z",
          "iopub.status.idle": "2024-05-23T08:52:24.593977Z",
          "shell.execute_reply": "2024-05-23T08:52:24.59324Z",
          "shell.execute_reply.started": "2024-05-23T08:52:24.360076Z"
        },
        "id": "kE7s4hccrvHI",
        "outputId": "016f8fa5-eccc-446d-d138-8bb99dffb226",
        "trusted": true
      },
      "outputs": [
        {
          "data": {
            "image/png": "[encoded data removed]",
            "text/plain": [
              "<Figure size 432x288 with 1 Axes>"
            ]
          },
          "metadata": {
            "needs_background": "light"
          },
          "output_type": "display_data"
        }
      ],
      "source": [
        "# summarize history for accuracy\n",
        "plt.plot(history.history['accuracy'])\n",
        "plt.plot(history.history['loss'])\n",
        "plt.title('model accuracy')\n",
        "plt.ylabel('accuracy')\n",
        "plt.xlabel('epoch')\n",
        "plt.legend(['Training Accuracy', 'Training Loss'], loc='upper left')\n",
        "plt.show()"
      ]
    }
  ],
  "metadata": {
    "colab": {
      "include_colab_link": true,
      "provenance": []
    },
    "kaggle": {
      "accelerator": "gpu",
      "dataSources": [
        {
          "datasetId": 8544,
          "sourceId": 11959,
          "sourceType": "datasetVersion"
        }
      ],
      "dockerImageVersionId": 30140,
      "isGpuEnabled": true,
      "isInternetEnabled": true,
      "language": "python",
      "sourceType": "notebook"
    },
    "kernelspec": {
      "display_name": "Python 3",
      "language": "python",
      "name": "python3"
    },
    "language_info": {
      "codemirror_mode": {
        "name": "ipython",
        "version": 3
      },
      "file_extension": ".py",
      "mimetype": "text/x-python",
      "name": "python",
      "nbconvert_exporter": "python",
      "pygments_lexer": "ipython3",
      "version": "3.7.10"
    }
  },
  "nbformat": 4,
  "nbformat_minor": 0
}
